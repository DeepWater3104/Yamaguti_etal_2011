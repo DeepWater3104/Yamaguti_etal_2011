{
 "cells": [
  {
   "cell_type": "code",
   "execution_count": 1,
   "id": "b0a7c450-c5a0-4379-97a2-556799b7aeaf",
   "metadata": {},
   "outputs": [],
   "source": [
    "import numpy as np\n",
    "from sklearn.discriminant_analysis import LinearDiscriminantAnalysis"
   ]
  },
  {
   "cell_type": "code",
   "execution_count": 2,
   "id": "68dcac1b-05a4-45bb-bcd3-05bd68ea5efc",
   "metadata": {},
   "outputs": [],
   "source": [
    "data = np.load('../record/results_2025-07-30-18-34/data/spike_countsWT1p6000_NC3N0100.npz')"
   ]
  },
  {
   "cell_type": "code",
   "execution_count": 3,
   "id": "a2b565a7-25d7-4c1c-b8b5-484c1740c899",
   "metadata": {},
   "outputs": [],
   "source": [
    "rng = np.random.default_rng(100)\n",
    "\n",
    "def separate_data(rng, num_segments=10):\n",
    "    data_to_segment = rng.integers(0, num_segments, size=np.size(data['time']))\n",
    "    return data_to_segment"
   ]
  },
  {
   "cell_type": "code",
   "execution_count": 4,
   "id": "83f9b91a-4b21-46f5-b888-6da6f3b9551b",
   "metadata": {},
   "outputs": [],
   "source": [
    "data_to_segment = separate_data(rng)"
   ]
  },
  {
   "cell_type": "code",
   "execution_count": 5,
   "id": "c6bc9d55-b84a-44cf-a781-fe22c60e320a",
   "metadata": {},
   "outputs": [],
   "source": [
    "lda = LinearDiscriminantAnalysis(n_components=1)"
   ]
  },
  {
   "cell_type": "code",
   "execution_count": 6,
   "id": "924f2459-4d81-4886-b9bd-ce1a7db21549",
   "metadata": {},
   "outputs": [
    {
     "data": {
      "text/plain": [
       "array([ 1,  1, 15, ...,  1,  1, 15], shape=(10000,))"
      ]
     },
     "execution_count": 6,
     "metadata": {},
     "output_type": "execute_result"
    }
   ],
   "source": [
    "data['input_seq']"
   ]
  },
  {
   "cell_type": "code",
   "execution_count": 7,
   "id": "037a6c43-35a1-46c4-8219-18a981f88522",
   "metadata": {},
   "outputs": [],
   "source": [
    "z = lda.fit(data['soma_potentials'],  data['input_seq']).transform(data['soma_potentials'])"
   ]
  },
  {
   "cell_type": "code",
   "execution_count": 8,
   "id": "f9e7e3f2-4ebb-4ab4-9f34-74e3ebe0f497",
   "metadata": {},
   "outputs": [
    {
     "data": {
      "text/plain": [
       "array([ 1,  1, 15, ...,  1,  1, 15], shape=(10000,))"
      ]
     },
     "execution_count": 8,
     "metadata": {},
     "output_type": "execute_result"
    }
   ],
   "source": [
    "data['input_seq']"
   ]
  },
  {
   "cell_type": "code",
   "execution_count": 9,
   "id": "0ec8d204-287e-44c5-8277-ff6be95d823e",
   "metadata": {},
   "outputs": [
    {
     "data": {
      "image/png": "[encoded data removed]",
      "text/plain": [
       "<Figure size 640x480 with 1 Axes>"
      ]
     },
     "metadata": {},
     "output_type": "display_data"
    }
   ],
   "source": [
    "from matplotlib import pyplot as plt\n",
    "colors = ['blue', 'red']\n",
    "for color, i, target_name in zip(colors, [1, 15], [0, 1]):\n",
    "    plt.hist(z[data['input_seq'] == i, 0],\n",
    "                label=target_name)\n",
    "plt.xlabel('LDA1')\n",
    "plt.ylabel('num data point')\n",
    "plt.legend(loc='best', shadow=False, scatterpoints=1)\n",
    "plt.title('LDA')\n",
    "plt.show()"
   ]
  },
  {
   "cell_type": "code",
   "execution_count": 10,
   "id": "2cc31ea4-b42d-414a-883e-da2bf011cbbb",
   "metadata": {},
   "outputs": [],
   "source": [
    "# remove transient period\n",
    "data_without_transient = {}\n",
    "data_without_transient['time'] = data['time'][100:]\n",
    "data_without_transient['soma_potentials'] = data['soma_potentials'][100:]\n",
    "data_without_transient['input_seq'] = data['input_seq'][100:]"
   ]
  },
  {
   "cell_type": "code",
   "execution_count": 11,
   "id": "736748db-9c75-4231-9ad7-0b81c355605b",
   "metadata": {},
   "outputs": [],
   "source": [
    "def split_data_into_groups(input_pattern, ca1_output, d, m):\n",
    "    d_input_history = np.zeros((np.size(input_pattern), d))\n",
    "    for i in range(d-1, np.size(input_pattern)):\n",
    "        d_input_history[i, :] = input_pattern[i-d+1:i+1]\n",
    "\n",
    "    num_groups = m**(d-1)\n",
    "    group = np.zeros(np.size(input_pattern))\n",
    "    for i in range(d-1):\n",
    "        group[i] = None\n",
    "\n",
    "    for i in range(d-1, np.size(input_pattern)):\n",
    "        for j in range(d-1):\n",
    "            group[i] += d_input_history[i, j] * m**j\n",
    "\n",
    "    return group"
   ]
  },
  {
   "cell_type": "code",
   "execution_count": 12,
   "id": "42b67df1-4c55-45b2-b6da-89487e0e4644",
   "metadata": {},
   "outputs": [],
   "source": [
    "def rename_input_pattern(input_seq):\n",
    "    new_input_pattern = np.zeros(np.size(input_seq))\n",
    "    No_input_pattern = np.unique(input_seq)\n",
    "    for idx, input in enumerate(input_seq):\n",
    "        for new_input, old_input in enumerate(No_input_pattern):\n",
    "            if input == old_input:\n",
    "                new_input_pattern[idx] = new_input\n",
    "\n",
    "    return new_input_pattern"
   ]
  },
  {
   "cell_type": "code",
   "execution_count": 13,
   "id": "61c24840-d426-43a1-a335-5da741af3125",
   "metadata": {},
   "outputs": [],
   "source": [
    "data_without_transient['input_seq'] = rename_input_pattern(data_without_transient['input_seq'])"
   ]
  },
  {
   "cell_type": "code",
   "execution_count": 14,
   "id": "7fd4506b-a1c5-487a-b1ce-488891afd403",
   "metadata": {},
   "outputs": [],
   "source": [
    "data_without_transient['group'] = split_data_into_groups(data_without_transient['input_seq'], data_without_transient['soma_potentials'], 1, 2)"
   ]
  },
  {
   "cell_type": "code",
   "execution_count": 15,
   "id": "f3c50e1f-7b25-4e9d-a754-4fb0148a0b4d",
   "metadata": {},
   "outputs": [
    {
     "data": {
      "text/plain": [
       "array([0., 1., 1., ..., 0., 0., 1.], shape=(9900,))"
      ]
     },
     "execution_count": 15,
     "metadata": {},
     "output_type": "execute_result"
    }
   ],
   "source": [
    "data_without_transient['input_seq']"
   ]
  },
  {
   "cell_type": "code",
   "execution_count": 16,
   "id": "4698b6c5-2c4e-42cc-abc9-b499ebaad01f",
   "metadata": {},
   "outputs": [],
   "source": [
    "if np.all(data_without_transient['input_seq'] == data_without_transient['group']):\n",
    "    print('true')"
   ]
  },
  {
   "cell_type": "code",
   "execution_count": 17,
   "id": "85219e10-6c58-4683-9c6d-af7978eb2798",
   "metadata": {},
   "outputs": [],
   "source": [
    "def _get_data_within_group(group, data_to_group, input_seq, ca1_output):\n",
    "    new_data = {}\n",
    "    new_data['input_seq'] = input_seq[np.where(data_to_group == group)]\n",
    "    new_data['soma_potentials'] = ca1_output[np.where(data_to_group == group)]\n",
    "    new_data['group'] = data_to_group[np.where(data_to_group == group)]\n",
    "    new_data['num_data'] = np.size(new_data['input_seq'])\n",
    "\n",
    "    return new_data"
   ]
  },
  {
   "cell_type": "code",
   "execution_count": 18,
   "id": "b093c9f2-cc50-4b50-98e1-d4c6e02b17ae",
   "metadata": {},
   "outputs": [],
   "source": [
    "data_in_group_1 = _get_data_within_group(1,  data_without_transient['group'], data_without_transient['input_seq'], data_without_transient['soma_potentials'])"
   ]
  },
  {
   "cell_type": "code",
   "execution_count": 19,
   "id": "05049e8a-9330-4229-8184-fcfc9466e7e4",
   "metadata": {},
   "outputs": [],
   "source": [
    "data_in_group_0 = _get_data_within_group(0,  data_without_transient['group'], data_without_transient['input_seq'], data_without_transient['soma_potentials'])"
   ]
  },
  {
   "cell_type": "code",
   "execution_count": 20,
   "id": "de915b81-c2db-4690-a7e2-2248260eb83f",
   "metadata": {},
   "outputs": [],
   "source": [
    "def split_data_into_segments(num_data, num_segments):\n",
    "    data_to_segment = rng.integers(0, num_segments, size=num_data)\n",
    "    return data_to_segment"
   ]
  },
  {
   "cell_type": "code",
   "execution_count": 21,
   "id": "8cd43b17-a5e1-4d9c-bf58-bcf0dcf14132",
   "metadata": {},
   "outputs": [],
   "source": [
    "def _get_data_within_segments(segment, data_to_segment, input_seq, ca1_output):\n",
    "    new_data = {}\n",
    "    new_data['input_seq'] = input_seq[np.where(data_to_segment == segment)]\n",
    "    new_data['soma_potentials'] = ca1_output[np.where(data_to_segment == segment)]\n",
    "    new_data['segment'] = data_to_segment[np.where(data_to_segment == segment)]\n",
    "    new_data['num_data'] = np.size(new_data['input_seq'])\n",
    "\n",
    "    return new_data"
   ]
  },
  {
   "cell_type": "code",
   "execution_count": 22,
   "id": "95eb88fb-b24f-4977-8d35-5b1f6854146c",
   "metadata": {},
   "outputs": [],
   "source": [
    "def calculate_centroid(z, input_seq, m):\n",
    "    centroid = []\n",
    "    for i in range(m):\n",
    "        centroid.append(np.mean(z[input_seq==i]))\n",
    "    return centroid\n",
    "\n",
    "def classify_validate_data(centroid, z_validate):\n",
    "    estimation = np.zeros(np.size(z_validate))\n",
    "    for z_idx, z in enumerate(z_validate):\n",
    "        minimum_distance = np.max(z_validate) - np.min(z_validate)\n",
    "        for cls, centroid_of_class in enumerate(centroid):\n",
    "            if abs(centroid_of_class - z) < minimum_distance:\n",
    "                minimum_distance = abs(centroid_of_class - z)\n",
    "                estimation[z_idx] = cls\n",
    "    return estimation\n",
    "            \n",
    "def calculate_ER(estimation, ground_truth):\n",
    "    num_error = 0\n",
    "    for est, truth in zip(estimation, ground_truth):\n",
    "        if est != truth:\n",
    "            num_error += 1\n",
    "    \n",
    "    return num_error / np.size(estimation)\n",
    "\n",
    "\n",
    "def conduct_lda(input_seq, ca1_output, data_to_segment, segment, m, d):\n",
    "    print(f'conduct lda for segment {segment}')\n",
    "    from sklearn.discriminant_analysis import LinearDiscriminantAnalysis\n",
    "    lda = LinearDiscriminantAnalysis(n_components=m-1)\n",
    "    z = lda.fit(ca1_output[data_to_segment!=segment], input_seq[data_to_segment!=segment]).transform(ca1_output[data_to_segment!=segment])\n",
    "    z_validate = lda.transform(ca1_output[data_to_segment==segment])\n",
    "    estimated_class = classify_validate_data(calculate_centroid(z, input_seq[data_to_segment!=segment], m), z_validate)\n",
    "    ER = calculate_ER(estimated_class, input_seq[data_to_segment==segment])\n",
    "    return ER"
   ]
  },
  {
   "cell_type": "code",
   "execution_count": 23,
   "id": "1bea3999-3a77-4b5a-97e3-491a17381c3b",
   "metadata": {},
   "outputs": [
    {
     "name": "stdout",
     "output_type": "stream",
     "text": [
      "LDA for group 0\n",
      "num data in group 0 = 9900\n",
      "0.017364657814096015\n",
      "number of all data is 9900\n"
     ]
    }
   ],
   "source": [
    "num_segments = 10\n",
    "d = 1\n",
    "m = 2\n",
    "num_groups = m**(d-1)\n",
    "num_all_data = 0\n",
    "data_without_transient['group'] = split_data_into_groups(data_without_transient['input_seq'], data_without_transient['soma_potentials'], d, m)\n",
    "for i in range(num_groups):\n",
    "    data_in_group = _get_data_within_group(i,  data_without_transient['group'], data_without_transient['input_seq'], data_without_transient['soma_potentials'])\n",
    "    print(f'LDA for group {i}')\n",
    "    print(f'num data in group {i} = {data_in_group['num_data']}')\n",
    "    error_rate = np.zeros(num_segments)\n",
    "\n",
    "    # conduct validation for segment 0\n",
    "    segment = 0\n",
    "    data_to_segments = split_data_into_segments(data_in_group['num_data'], num_segments)\n",
    "    from sklearn.discriminant_analysis import LinearDiscriminantAnalysis\n",
    "    z = lda.fit(data_in_group['soma_potentials'][data_to_segments!=segment], data_in_group['input_seq'][data_to_segments!=segment]).transform(data_in_group['soma_potentials'][data_to_segments!=segment])\n",
    "    z_validate = lda.transform(data_in_group['soma_potentials'][data_to_segments==segment])\n",
    "    estimated_class = classify_validate_data(calculate_centroid(z, data_in_group['input_seq'][data_to_segments!=segment], m), z_validate)\n",
    "    ER = calculate_ER(estimated_class, data_in_group['input_seq'][data_to_segments==segment])\n",
    "    print(ER)\n",
    "    num_all_data += data_in_group['num_data']\n",
    "print(f'number of all data is {num_all_data}')"
   ]
  },
  {
   "cell_type": "code",
   "execution_count": 24,
   "id": "3350f70a-bc86-42c8-b672-9effe4c7cec4",
   "metadata": {},
   "outputs": [
    {
     "name": "stdout",
     "output_type": "stream",
     "text": [
      "[0. 0. 0. ... 0. 0. 0.]\n",
      "LDA for group 0\n",
      "num data in group 0 = 9900\n",
      "conduct lda for segment 0\n",
      "0.019076305220883535\n",
      "conduct lda for segment 1\n",
      "0.014767932489451477\n",
      "conduct lda for segment 2\n",
      "0.025150905432595575\n",
      "conduct lda for segment 3\n",
      "0.022821576763485476\n",
      "conduct lda for segment 4\n",
      "0.021384928716904276\n",
      "conduct lda for segment 5\n",
      "0.022703818369453045\n",
      "conduct lda for segment 6\n",
      "0.01694915254237288\n",
      "conduct lda for segment 7\n",
      "0.017928286852589643\n",
      "conduct lda for segment 8\n",
      "0.023350253807106598\n",
      "conduct lda for segment 9\n",
      "0.013388259526261586\n",
      "0.019752141972110407\n",
      "number of all data is 9900\n"
     ]
    }
   ],
   "source": [
    "num_segments = 10\n",
    "d = 1\n",
    "m = 2\n",
    "num_groups = m**(d-1)\n",
    "num_all_data = 0\n",
    "data_without_transient['group'] = split_data_into_groups(data_without_transient['input_seq'], data_without_transient['soma_potentials'], d, m)\n",
    "print(data_without_transient['group'])\n",
    "for i in range(num_groups):\n",
    "    data_in_group = _get_data_within_group(i,  data_without_transient['group'], data_without_transient['input_seq'], data_without_transient['soma_potentials'])\n",
    "    print(f'LDA for group {i}')\n",
    "    print(f'num data in group {i} = {data_in_group['num_data']}')\n",
    "    error_rate = np.zeros(num_segments)\n",
    "    for j in range(num_segments):\n",
    "        data_to_segments = split_data_into_segments(data_in_group['num_data'], num_segments)\n",
    "        error_rate[j] = conduct_lda(data_in_group['input_seq'], data_in_group['soma_potentials'], data_to_segments, j, m, d)\n",
    "        print(error_rate[j])\n",
    "    print(np.mean(error_rate))\n",
    "    num_all_data += data_in_group['num_data']\n",
    "print(f'number of all data is {num_all_data}')"
   ]
  },
  {
   "cell_type": "code",
   "execution_count": 25,
   "id": "4471ad54-de9c-4260-8386-9ce0143f029c",
   "metadata": {},
   "outputs": [
    {
     "name": "stdout",
     "output_type": "stream",
     "text": [
      "[nan  0.  1. ...  1.  0.  0.]\n",
      "LDA for group 0\n",
      "num data in group 0 = 5014\n",
      "conduct lda for segment 0\n",
      "0.0\n",
      "conduct lda for segment 1\n",
      "0.0\n",
      "conduct lda for segment 2\n",
      "0.0\n",
      "conduct lda for segment 3\n",
      "0.0\n",
      "conduct lda for segment 4\n",
      "0.0\n",
      "conduct lda for segment 5\n",
      "0.0\n",
      "conduct lda for segment 6\n",
      "0.0\n",
      "conduct lda for segment 7\n",
      "0.0\n",
      "conduct lda for segment 8\n",
      "0.0\n",
      "conduct lda for segment 9\n",
      "0.0\n",
      "0.0\n",
      "LDA for group 1\n",
      "num data in group 1 = 4885\n",
      "conduct lda for segment 0\n",
      "0.0\n",
      "conduct lda for segment 1\n",
      "0.0\n",
      "conduct lda for segment 2\n",
      "0.0\n",
      "conduct lda for segment 3\n",
      "0.0\n",
      "conduct lda for segment 4\n",
      "0.0\n",
      "conduct lda for segment 5\n",
      "0.0\n",
      "conduct lda for segment 6\n",
      "0.0\n",
      "conduct lda for segment 7\n",
      "0.0\n",
      "conduct lda for segment 8\n",
      "0.0\n",
      "conduct lda for segment 9\n",
      "0.0\n",
      "0.0\n",
      "number of all data is 9899\n"
     ]
    }
   ],
   "source": [
    "num_segments = 10\n",
    "d = 2\n",
    "m = 2\n",
    "num_groups = m**(d-1)\n",
    "num_all_data = 0\n",
    "data_without_transient['group'] = split_data_into_groups(data_without_transient['input_seq'], data_without_transient['soma_potentials'], d, m)\n",
    "print(data_without_transient['group'])\n",
    "for i in range(num_groups):\n",
    "    data_in_group = _get_data_within_group(i,  data_without_transient['group'], data_without_transient['input_seq'], data_without_transient['soma_potentials'])\n",
    "    print(f'LDA for group {i}')\n",
    "    print(f'num data in group {i} = {data_in_group['num_data']}')\n",
    "    error_rate = np.zeros(num_segments)\n",
    "    for j in range(num_segments):\n",
    "        data_to_segments = split_data_into_segments(data_in_group['num_data'], num_segments)\n",
    "        error_rate[j] = conduct_lda(data_in_group['input_seq'], data_in_group['soma_potentials'], data_to_segments, j, m, d)\n",
    "        print(error_rate[j])\n",
    "    print(np.mean(error_rate))\n",
    "    num_all_data += data_in_group['num_data']\n",
    "print(f'number of all data is {num_all_data}')"
   ]
  },
  {
   "cell_type": "code",
   "execution_count": 26,
   "id": "617045a1-ac39-41b7-a0c0-fb8e7b96509c",
   "metadata": {},
   "outputs": [
    {
     "name": "stdout",
     "output_type": "stream",
     "text": [
      "[nan nan  2. ...  3.  1.  0.]\n",
      "LDA for group 0\n",
      "num data in group 0 = 2555\n",
      "conduct lda for segment 0\n",
      "0.0\n",
      "conduct lda for segment 1\n",
      "0.0\n",
      "conduct lda for segment 2\n",
      "0.0\n",
      "conduct lda for segment 3\n",
      "0.0\n",
      "conduct lda for segment 4\n",
      "0.0\n",
      "conduct lda for segment 5\n",
      "0.0\n",
      "conduct lda for segment 6\n",
      "0.0\n",
      "conduct lda for segment 7\n",
      "0.0\n",
      "conduct lda for segment 8\n",
      "0.0\n",
      "conduct lda for segment 9\n",
      "0.0\n",
      "0.0\n",
      "LDA for group 1\n",
      "num data in group 1 = 2458\n",
      "conduct lda for segment 0\n",
      "0.0\n",
      "conduct lda for segment 1\n",
      "0.0\n",
      "conduct lda for segment 2\n",
      "0.0\n",
      "conduct lda for segment 3\n",
      "0.0\n",
      "conduct lda for segment 4\n",
      "0.0\n",
      "conduct lda for segment 5\n",
      "0.0\n",
      "conduct lda for segment 6\n",
      "0.0\n",
      "conduct lda for segment 7\n",
      "0.0\n",
      "conduct lda for segment 8\n",
      "0.0\n",
      "conduct lda for segment 9\n",
      "0.0\n",
      "0.0\n",
      "LDA for group 2\n",
      "num data in group 2 = 2458\n",
      "conduct lda for segment 0\n",
      "0.0\n",
      "conduct lda for segment 1\n",
      "0.0\n",
      "conduct lda for segment 2\n",
      "0.0\n",
      "conduct lda for segment 3\n",
      "0.0\n",
      "conduct lda for segment 4\n",
      "0.0\n",
      "conduct lda for segment 5\n",
      "0.0\n",
      "conduct lda for segment 6\n",
      "0.0\n",
      "conduct lda for segment 7\n",
      "0.0\n",
      "conduct lda for segment 8\n",
      "0.0\n",
      "conduct lda for segment 9\n",
      "0.0\n",
      "0.0\n",
      "LDA for group 3\n",
      "num data in group 3 = 2427\n",
      "conduct lda for segment 0\n",
      "0.0\n",
      "conduct lda for segment 1\n",
      "0.0\n",
      "conduct lda for segment 2\n",
      "0.0\n",
      "conduct lda for segment 3\n",
      "0.0\n",
      "conduct lda for segment 4\n",
      "0.0\n",
      "conduct lda for segment 5\n",
      "0.0\n",
      "conduct lda for segment 6\n",
      "0.0\n",
      "conduct lda for segment 7\n",
      "0.0\n",
      "conduct lda for segment 8\n",
      "0.0\n",
      "conduct lda for segment 9\n",
      "0.0\n",
      "0.0\n",
      "number of all data is 9898\n"
     ]
    }
   ],
   "source": [
    "num_segments = 10\n",
    "d = 1\n",
    "m = 2\n",
    "num_groups = m**(d-1)\n",
    "num_all_data = 0\n",
    "data_without_transient['group'] = split_data_into_groups(data_without_transient['input_seq'], data_without_transient['soma_potentials'], d, m)\n",
    "print(data_without_transient['group'])\n",
    "for i in range(num_groups):\n",
    "    data_in_group = _get_data_within_group(i,  data_without_transient['group'], data_without_transient['input_seq'], data_without_transient['soma_potentials'])\n",
    "    print(f'LDA for group {i}')\n",
    "    print(f'num data in group {i} = {data_in_group['num_data']}')\n",
    "    error_rate = np.zeros(num_segments)\n",
    "    for j in range(num_segments):\n",
    "        data_to_segments = split_data_into_segments(data_in_group['num_data'], num_segments)\n",
    "        error_rate[j] = conduct_lda(data_in_group['input_seq'], data_in_group['soma_potentials'], data_to_segments, j, m, d)\n",
    "        print(error_rate[j])\n",
    "    print(np.mean(error_rate))\n",
    "    num_all_data += data_in_group['num_data']\n",
    "print(f'number of all data is {num_all_data}')"
   ]
  },
  {
   "cell_type": "code",
   "execution_count": 27,
   "id": "146abfca-536a-42b2-8764-d706ec6937d9",
   "metadata": {},
   "outputs": [
    {
     "name": "stdout",
     "output_type": "stream",
     "text": [
      "LDA for group 0\n",
      "num data in group 0 = 1276\n",
      "LDA for group 1\n",
      "num data in group 1 = 1279\n",
      "LDA for group 2\n",
      "num data in group 2 = 1245\n",
      "LDA for group 3\n",
      "num data in group 3 = 1213\n",
      "LDA for group 4\n",
      "num data in group 4 = 1278\n",
      "LDA for group 5\n",
      "num data in group 5 = 1179\n",
      "LDA for group 6\n",
      "num data in group 6 = 1213\n",
      "LDA for group 7\n",
      "num data in group 7 = 1214\n",
      "number of all data is 9897\n"
     ]
    }
   ],
   "source": [
    "num_segments = 10\n",
    "d = 4\n",
    "m = 2\n",
    "num_groups = m**(d-1)\n",
    "num_all_data = 0\n",
    "data_without_transient['group'] = split_data_into_groups(data_without_transient['input_seq'], data_without_transient['soma_potentials'], d, m)\n",
    "for i in range(num_groups):\n",
    "    data_in_group = _get_data_within_group(i,  data_without_transient['group'], data_without_transient['input_seq'], data_without_transient['soma_potentials'])\n",
    "    print(f'LDA for group {i}')\n",
    "    print(f'num data in group {i} = {data_in_group['num_data']}')\n",
    "    num_all_data += data_in_group['num_data']\n",
    "print(f'number of all data is {num_all_data}')"
   ]
  },
  {
   "cell_type": "code",
   "execution_count": 28,
   "id": "2ccda747-2a1f-4275-8d09-457ed5c54b16",
   "metadata": {},
   "outputs": [
    {
     "name": "stdout",
     "output_type": "stream",
     "text": [
      "LDA for group 0\n",
      "num data in group 0 = 632\n",
      "LDA for group 1\n",
      "num data in group 1 = 644\n",
      "LDA for group 2\n",
      "num data in group 2 = 654\n",
      "LDA for group 3\n",
      "num data in group 3 = 625\n",
      "LDA for group 4\n",
      "num data in group 4 = 658\n",
      "LDA for group 5\n",
      "num data in group 5 = 587\n",
      "LDA for group 6\n",
      "num data in group 6 = 583\n",
      "LDA for group 7\n",
      "num data in group 7 = 630\n",
      "LDA for group 8\n",
      "num data in group 8 = 644\n",
      "LDA for group 9\n",
      "num data in group 9 = 634\n",
      "LDA for group 10\n",
      "num data in group 10 = 591\n",
      "LDA for group 11\n",
      "num data in group 11 = 588\n",
      "LDA for group 12\n",
      "num data in group 12 = 620\n",
      "LDA for group 13\n",
      "num data in group 13 = 592\n",
      "LDA for group 14\n",
      "num data in group 14 = 630\n",
      "LDA for group 15\n",
      "num data in group 15 = 584\n"
     ]
    }
   ],
   "source": [
    "num_segments = 10\n",
    "d = 5\n",
    "m = 2\n",
    "num_groups = m**(d-1)\n",
    "num_all_data = 0\n",
    "data_without_transient['group'] = split_data_into_groups(data_without_transient['input_seq'], data_without_transient['soma_potentials'], d, m)\n",
    "for i in range(num_groups):\n",
    "    data_in_group = _get_data_within_group(i,  data_without_transient['group'], data_without_transient['input_seq'], data_without_transient['soma_potentials'])\n",
    "    print(f'LDA for group {i}')\n",
    "    print(f'num data in group {i} = {data_in_group['num_data']}')\n",
    "    num_all_data += data_in_group['num_data']"
   ]
  }
 ],
 "metadata": {
  "kernelspec": {
   "display_name": "Python 3 (ipykernel)",
   "language": "python",
   "name": "python3"
  },
  "language_info": {
   "codemirror_mode": {
    "name": "ipython",
    "version": 3
   },
   "file_extension": ".py",
   "mimetype": "text/x-python",
   "name": "python",
   "nbconvert_exporter": "python",
   "pygments_lexer": "ipython3",
   "version": "3.12.3"
  }
 },
 "nbformat": 4,
 "nbformat_minor": 5
}
