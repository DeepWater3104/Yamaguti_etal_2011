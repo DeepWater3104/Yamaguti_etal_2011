{
 "cells": [
  {
   "cell_type": "code",
   "execution_count": 1,
   "id": "662d3488-216b-4a2a-a508-c1f457387e59",
   "metadata": {},
   "outputs": [],
   "source": [
    "import sys\n",
    "sys.path.append(\"../src/\")\n",
    "from pinsky_rinzel_model import PinskyRinzelModel\n",
    "from CA1network import CA1Network\n",
    "import numpy as np\n",
    "import tqdm"
   ]
  },
  {
   "cell_type": "code",
   "execution_count": 2,
   "id": "3367740d-ef60-4f02-ad0c-ca15eb2a78a8",
   "metadata": {},
   "outputs": [
    {
     "name": "stdout",
     "output_type": "stream",
     "text": [
      "[13  1 14]\n",
      "Generated CA3 input sequence: [np.int64(14), np.int64(13), np.int64(14), np.int64(13), np.int64(13), np.int64(1), np.int64(14), np.int64(14), np.int64(14), np.int64(14), np.int64(14), np.int64(1), np.int64(13), np.int64(14), np.int64(1), np.int64(1), np.int64(1), np.int64(13), np.int64(14), np.int64(14), np.int64(1), np.int64(1), np.int64(14), np.int64(1), np.int64(1), np.int64(1), np.int64(13), np.int64(13), np.int64(1), np.int64(14), np.int64(13), np.int64(14), np.int64(14), np.int64(13), np.int64(1), np.int64(13), np.int64(14), np.int64(14), np.int64(1), np.int64(13), np.int64(14), np.int64(1), np.int64(14), np.int64(14), np.int64(14), np.int64(14), np.int64(13), np.int64(1), np.int64(1), np.int64(1), np.int64(13), np.int64(1), np.int64(13), np.int64(14), np.int64(14), np.int64(14), np.int64(14), np.int64(1), np.int64(14), np.int64(1), np.int64(13), np.int64(14), np.int64(1), np.int64(13), np.int64(1), np.int64(14), np.int64(13), np.int64(1), np.int64(13), np.int64(14), np.int64(1), np.int64(13), np.int64(13), np.int64(1), np.int64(14), np.int64(14), np.int64(1), np.int64(13), np.int64(14), np.int64(1), np.int64(14), np.int64(13), np.int64(13), np.int64(14), np.int64(14), np.int64(1), np.int64(14), np.int64(14), np.int64(1), np.int64(14), np.int64(13), np.int64(13), np.int64(14), np.int64(1), np.int64(13), np.int64(14), np.int64(13), np.int64(14), np.int64(13), np.int64(14), np.int64(14), np.int64(14), np.int64(1), np.int64(1), np.int64(14), np.int64(13), np.int64(14), np.int64(1), np.int64(1), np.int64(1), np.int64(1), np.int64(13), np.int64(13), np.int64(13), np.int64(13), np.int64(1), np.int64(14), np.int64(1), np.int64(1), np.int64(14), np.int64(1), np.int64(13), np.int64(14), np.int64(1), np.int64(1), np.int64(1), np.int64(1), np.int64(13), np.int64(1), np.int64(14), np.int64(13), np.int64(1), np.int64(13), np.int64(1), np.int64(1), np.int64(14), np.int64(13), np.int64(13), np.int64(1), np.int64(14), np.int64(14), np.int64(13), np.int64(13), np.int64(14), np.int64(13), np.int64(14), np.int64(13), np.int64(14), np.int64(13), np.int64(1), np.int64(1), np.int64(13), np.int64(1), np.int64(1), np.int64(14), np.int64(14), np.int64(1), np.int64(1), np.int64(1), np.int64(1), np.int64(14), np.int64(13), np.int64(13), np.int64(1), np.int64(13), np.int64(13), np.int64(13), np.int64(14), np.int64(14), np.int64(14), np.int64(1), np.int64(14), np.int64(13), np.int64(14), np.int64(1), np.int64(14), np.int64(13), np.int64(1), np.int64(14), np.int64(1), np.int64(1), np.int64(13), np.int64(1), np.int64(13), np.int64(13), np.int64(14), np.int64(1), np.int64(1), np.int64(1), np.int64(14), np.int64(13), np.int64(1), np.int64(13), np.int64(1), np.int64(14), np.int64(1), np.int64(14), np.int64(1), np.int64(14), np.int64(1), np.int64(13), np.int64(14), np.int64(14), np.int64(13), np.int64(14), np.int64(13), np.int64(14), np.int64(14), np.int64(1), np.int64(14), np.int64(13), np.int64(13), np.int64(13), np.int64(1), np.int64(14), np.int64(13), np.int64(1), np.int64(14), np.int64(13), np.int64(14), np.int64(13), np.int64(14), np.int64(1), np.int64(1), np.int64(13), np.int64(1), np.int64(14), np.int64(13), np.int64(14), np.int64(1), np.int64(14), np.int64(1), np.int64(1), np.int64(13), np.int64(1), np.int64(13), np.int64(1), np.int64(13), np.int64(1), np.int64(1), np.int64(13), np.int64(14), np.int64(1), np.int64(14), np.int64(13), np.int64(13), np.int64(1), np.int64(13), np.int64(13), np.int64(1), np.int64(13), np.int64(14), np.int64(13), np.int64(13), np.int64(1), np.int64(14), np.int64(13), np.int64(13), np.int64(14), np.int64(14), np.int64(1), np.int64(1), np.int64(1), np.int64(1), np.int64(1), np.int64(13), np.int64(13), np.int64(13), np.int64(14), np.int64(1), np.int64(1), np.int64(1), np.int64(14), np.int64(13), np.int64(13), np.int64(13), np.int64(1), np.int64(14), np.int64(1), np.int64(1), np.int64(14), np.int64(13), np.int64(1), np.int64(1), np.int64(1), np.int64(14), np.int64(13), np.int64(14), np.int64(13), np.int64(1), np.int64(1), np.int64(14), np.int64(1), np.int64(13), np.int64(13), np.int64(1), np.int64(14), np.int64(13), np.int64(14), np.int64(1)]\n"
     ]
    }
   ],
   "source": [
    "# Parameters\n",
    "num_ca1 = 100              # CA1ニューロン数 (論文 Figure 9で100まで)\n",
    "num_ca3_patterns = 20      # M=100 (論文では具体的な値が指定されていない)\n",
    "num_ca3_patterns_input = 3 # m=3 (主成分空間の次元と一致させる)\n",
    "t_interval_T = 100.0       # T=100ms (論文 Figure 4) \n",
    "duration_delta = 5.0       # delta=5ms (論文 Section 3.1) \n",
    "sim_dt = 0.05              # シミュレーションタイムステップ \n",
    "neuron_type = \"bursting\"\n",
    "synapse_type = \"BOTH\"\n",
    "sequence_length = 300      # T間隔の数 (100ms * 10 = 1000ms = 1秒)\n",
    "t_span_network = (0, t_interval_T * sequence_length) # 0ms から 1000ms\n",
    "rng = np.random.default_rng(42)\n",
    "selected_numbers = rng.choice(range(num_ca3_patterns), size=num_ca3_patterns_input, replace=False)\n",
    "print(selected_numbers)\n",
    "ca3_input_sequence = rng.integers(0, num_ca3_patterns_input, size=sequence_length).tolist()\n",
    "for input_idx in range(sequence_length):\n",
    "    ca3_input_sequence[input_idx] = selected_numbers[ca3_input_sequence[input_idx]]\n",
    "print(f\"Generated CA3 input sequence: {ca3_input_sequence}\")"
   ]
  },
  {
   "cell_type": "code",
   "execution_count": 3,
   "id": "b2cd8504-7e81-457d-a702-7a9b31cadd5e",
   "metadata": {},
   "outputs": [
    {
     "name": "stdout",
     "output_type": "stream",
     "text": [
      "Initializing CA1 Network with 100 neurons...\n",
      "CA1 Network Initialized.\n"
     ]
    }
   ],
   "source": [
    "print(f\"Initializing CA1 Network with {num_ca1} neurons...\")\n",
    "ca1_network = CA1Network(\n",
    "    num_ca1_neurons=num_ca1,\n",
    "    num_ca3_patterns=num_ca3_patterns,\n",
    "    num_ca3_patterns_input=num_ca3_patterns_input,\n",
    "    neuron_type=neuron_type,\n",
    "    synapse_type=synapse_type,\n",
    "    dt=sim_dt,\n",
    "    seed=42\n",
    ")\n",
    "print(\"CA1 Network Initialized.\")"
   ]
  },
  {
   "cell_type": "code",
   "execution_count": null,
   "id": "6b7ee5b6-6eb9-4557-ae26-f4b6ef544cc7",
   "metadata": {},
   "outputs": [
    {
     "name": "stdout",
     "output_type": "stream",
     "text": [
      "Starting network simulation for 30000.0 ms...\n"
     ]
    }
   ],
   "source": [
    "print(f\"Starting network simulation for {t_span_network[1]} ms...\")\n",
    "network_sol = ca1_network.simulate_network(\n",
    "    t_span=t_span_network,\n",
    "    ca3_input_sequence=ca3_input_sequence,\n",
    "    ca3_input_interval_T=t_interval_T,\n",
    "    ca3_input_duration_delta=duration_delta,\n",
    ")\n",
    "print(\"Network simulation completed.\")"
   ]
  },
  {
   "cell_type": "code",
   "execution_count": null,
   "id": "7c6e5460-e0c6-4517-a0ef-944646e27f49",
   "metadata": {},
   "outputs": [],
   "source": [
    "from matplotlib import pyplot as plt\n",
    "all_vs_matrix = ca1_network.get_all_soma_membrane_potentials(network_sol)\n",
    "averaged_vs_matrix = ca1_network.get_averaged_soma_potentials(network_sol, t_interval_T)\n",
    "spike_counts_matrix = ca1_network.get_spike_counts(network_sol, t_interval_T)\n",
    "\n",
    "if all_vs_matrix is not None:\n",
    "    print(f\"Shape of all Vs matrix: {all_vs_matrix.shape}\")\n",
    "    plt.figure(figsize=(15, 7))\n",
    "    plt.imshow(all_vs_matrix, aspect='auto', cmap='hot',\n",
    "               extent=[network_sol.t.min(), network_sol.t.max(), ca1_network.num_ca1_neurons - 0.5, -0.5],\n",
    "               origin='upper', vmin=-80, vmax=40)\n",
    "    plt.colorbar(label='Soma Membrane Potential (mV)')\n",
    "    plt.title(f'Soma Membrane Potentials of all {ca1_network.num_ca1_neurons} CA1 Neurons')\n",
    "    plt.xlabel('Time (msec)')\n",
    "    plt.ylabel('Neuron Index')\n",
    "    y_min_ax, y_max_ax = plt.gca().get_ylim() \n",
    "    for k_idx, pattern_idx in enumerate(ca3_input_sequence):\n",
    "        start_time = k_idx * t_interval_T\n",
    "        end_time = start_time + duration_delta\n",
    "        plt.axvspan(start_time, end_time, color=f'C{pattern_idx}', alpha=0.05) \n",
    "        plt.text(start_time + duration_delta/2, y_max_ax * 0.95, str(pattern_idx), \n",
    "                 horizontalalignment='center', verticalalignment='top', fontsize=8, color='white',\n",
    "                 bbox=dict(facecolor=f'C{pattern_idx}', alpha=0.5, edgecolor='none', boxstyle='round,pad=0.2'))\n",
    "    plt.tight_layout()\n",
    "    plt.savefig(\"ca1_network_all_vs_heatmap.png\")\n",
    "plt.show()"
   ]
  },
  {
   "cell_type": "code",
   "execution_count": null,
   "id": "e2b347ad-6072-4af7-bc97-2956134b43df",
   "metadata": {},
   "outputs": [],
   "source": [
    "from sklearn.decomposition import PCA\n",
    "\n",
    "fig_pca = plt.figure(figsize=(10, 8))\n",
    "ax_pca = fig_pca.add_subplot(111, projection='3d')\n",
    "\n",
    "print(\"\\nStarting PCA and 3D plotting (no color coding)...\")\n",
    "X_pca = averaged_vs_matrix.T \n",
    "print(f\"Shape of data for PCA (intervals x neurons): {X_pca.shape}\")\n",
    "pca = PCA(n_components=3)\n",
    "principal_components = pca.fit_transform(X_pca)\n",
    "print(f\"Shape of principal components: {principal_components.shape}\")\n",
    "print(f\"Explained variance ratio: {pca.explained_variance_ratio_}\")\n",
    "print(f\"Cumulative explained variance: {np.sum(pca.explained_variance_ratio_)}\")\n",
    "for i in range(ca1_network.num_ca3_patterns):\n",
    "    indices = np.where(np.array(ca3_input_sequence) == i)[0]\n",
    "    \n",
    "    ax_pca.scatter(principal_components[indices, 0], \n",
    "                   principal_components[indices, 1], \n",
    "                   principal_components[indices, 2], \n",
    "                   color=\"r\",\n",
    "                   s=20, alpha=0.7)\n",
    "ax_pca.set_xlabel('Principal Component 1 (u1)')\n",
    "ax_pca.set_ylabel('Principal Component 2 (u2)')\n",
    "ax_pca.set_zlabel('Principal Component 3 (u3)')\n",
    "ax_pca.set_title(f'PCA of Averaged Soma Potentials (m={ca1_network.num_ca3_patterns_input})')\n",
    "ax_pca.grid(True)\n",
    "plt.tight_layout()\n",
    "plt.savefig(\"ca1_network_pca_3d_plot.png\")\n",
    "print(\"PCA 3D plot saved successfully.\")"
   ]
  },
  {
   "cell_type": "code",
   "execution_count": null,
   "id": "24ae58d8-bc0f-47b9-93de-711e0b852c76",
   "metadata": {},
   "outputs": [],
   "source": [
    "if all_vs_matrix is not None:\n",
    "    output_filename = \"data/all_vs_matrix.npy\"\n",
    "    np.save(output_filename, all_vs_matrix)\n",
    "    print(f\"All Vs matrix saved to {output_filename}\")"
   ]
  }
 ],
 "metadata": {
  "kernelspec": {
   "display_name": "Python 3 (ipykernel)",
   "language": "python",
   "name": "python3"
  },
  "language_info": {
   "codemirror_mode": {
    "name": "ipython",
    "version": 3
   },
   "file_extension": ".py",
   "mimetype": "text/x-python",
   "name": "python",
   "nbconvert_exporter": "python",
   "pygments_lexer": "ipython3",
   "version": "3.12.3"
  }
 },
 "nbformat": 4,
 "nbformat_minor": 5
}
